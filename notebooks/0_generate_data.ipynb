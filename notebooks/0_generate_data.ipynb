{
 "cells": [
  {
   "cell_type": "markdown",
   "metadata": {},
   "source": [
    "This notebook saves new generated data by creating a JSON in `data/processed/generated`"
   ]
  },
  {
   "cell_type": "code",
   "execution_count": 1,
   "metadata": {},
   "outputs": [],
   "source": [
    "import json\n",
    "import os"
   ]
  },
  {
   "cell_type": "code",
   "execution_count": 2,
   "metadata": {},
   "outputs": [],
   "source": [
    "task = 'urban_rural_counterparts'"
   ]
  },
  {
   "cell_type": "code",
   "execution_count": 3,
   "metadata": {},
   "outputs": [],
   "source": [
    "data = [\n",
    "    {\n",
    "        \"input\": \"Urban\",\n",
    "        \"output\": \"Rural\"\n",
    "    },\n",
    "    {\n",
    "        \"input\": \"City\",\n",
    "        \"output\": \"Countryside\"\n",
    "    },\n",
    "    {\n",
    "        \"input\": \"Metropolitan\",\n",
    "        \"output\": \"Agrarian\"\n",
    "    },\n",
    "    {\n",
    "        \"input\": \"Downtown\",\n",
    "        \"output\": \"Outskirts\"\n",
    "    },\n",
    "    {\n",
    "        \"input\": \"Skyscrapers\",\n",
    "        \"output\": \"Farmlands\"\n",
    "    },\n",
    "    {\n",
    "        \"input\": \"Subway\",\n",
    "        \"output\": \"Dirt roads\"\n",
    "    },\n",
    "    {\n",
    "        \"input\": \"High-rise buildings\",\n",
    "        \"output\": \"Barns\"\n",
    "    },\n",
    "    {\n",
    "        \"input\": \"Streetlights\",\n",
    "        \"output\": \"Stars\"\n",
    "    },\n",
    "    {\n",
    "        \"input\": \"Apartment complexes\",\n",
    "        \"output\": \"Farmhouses\"\n",
    "    },\n",
    "    {\n",
    "        \"input\": \"Traffic\",\n",
    "        \"output\": \"Open fields\"\n",
    "    },\n",
    "    {\n",
    "        \"input\": \"Public transportation\",\n",
    "        \"output\": \"Tractors\"\n",
    "    },\n",
    "    {\n",
    "        \"input\": \"Malls\",\n",
    "        \"output\": \"Local markets\"\n",
    "    },\n",
    "    {\n",
    "        \"input\": \"City parks\",\n",
    "        \"output\": \"Forests\"\n",
    "    },\n",
    "    {\n",
    "        \"input\": \"Sidewalks\",\n",
    "        \"output\": \"Dirt paths\"\n",
    "    },\n",
    "    {\n",
    "        \"input\": \"Cafes\",\n",
    "        \"output\": \"Home-cooked meals\"\n",
    "    },\n",
    "    {\n",
    "        \"input\": \"Nightlife\",\n",
    "        \"output\": \"Quiet nights\"\n",
    "    },\n",
    "    {\n",
    "        \"input\": \"Urban sprawl\",\n",
    "        \"output\": \"Open landscapes\"\n",
    "    },\n",
    "    {\n",
    "        \"input\": \"Pollution\",\n",
    "        \"output\": \"Fresh air\"\n",
    "    },\n",
    "    {\n",
    "        \"input\": \"Crowds\",\n",
    "        \"output\": \"Solitude\"\n",
    "    },\n",
    "    {\n",
    "        \"input\": \"Fast-paced life\",\n",
    "        \"output\": \"Slow living\"\n",
    "    }\n",
    "]\n",
    "\n",
    "\n"
   ]
  },
  {
   "cell_type": "code",
   "execution_count": 4,
   "metadata": {},
   "outputs": [],
   "source": [
    "# if data/processed exists, else create it\n",
    "if not os.path.exists('../data/processed'):\n",
    "    os.makedirs('../data/processed')\n",
    "if not os.path.exists('../data/processed/generated'):\n",
    "    os.makedirs('../data/processed/generated')\n",
    "\n",
    "# Save the dictionary as a JSON file\n",
    "with open(f'../data/processed/generated/{task}.json', 'w') as f:\n",
    "    json.dump(data, f, indent=4)"
   ]
  }
 ],
 "metadata": {
  "kernelspec": {
   "display_name": "fv",
   "language": "python",
   "name": "python3"
  },
  "language_info": {
   "codemirror_mode": {
    "name": "ipython",
    "version": 3
   },
   "file_extension": ".py",
   "mimetype": "text/x-python",
   "name": "python",
   "nbconvert_exporter": "python",
   "pygments_lexer": "ipython3",
   "version": "3.10.13"
  }
 },
 "nbformat": 4,
 "nbformat_minor": 2
}
